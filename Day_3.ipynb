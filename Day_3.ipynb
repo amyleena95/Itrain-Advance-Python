{
  "nbformat": 4,
  "nbformat_minor": 0,
  "metadata": {
    "colab": {
      "name": "Day 3.ipynb",
      "provenance": [],
      "collapsed_sections": []
    },
    "kernelspec": {
      "name": "python3",
      "display_name": "Python 3"
    },
    "language_info": {
      "name": "python"
    }
  },
  "cells": [
    {
      "cell_type": "code",
      "execution_count": null,
      "metadata": {
        "colab": {
          "base_uri": "https://localhost:8080/"
        },
        "id": "RNrCpIjfQNjA",
        "outputId": "20ab4079-f673-4f1f-f819-263ec2dfa2c8"
      },
      "outputs": [
        {
          "output_type": "stream",
          "name": "stdout",
          "text": [
            "Looking in indexes: https://pypi.org/simple, https://us-python.pkg.dev/colab-wheels/public/simple/\n",
            "Requirement already satisfied: networkx in /usr/local/lib/python3.7/dist-packages (2.6.3)\n"
          ]
        }
      ],
      "source": [
        "pip install networkx\n"
      ]
    },
    {
      "cell_type": "code",
      "source": [
        "import networkx as nx\n",
        "import matplotlib.pyplot as plt\n"
      ],
      "metadata": {
        "id": "Wu50ATtzFfgg"
      },
      "execution_count": null,
      "outputs": []
    },
    {
      "cell_type": "markdown",
      "source": [
        "Directed Graph"
      ],
      "metadata": {
        "id": "v1s-P16yGs-s"
      }
    },
    {
      "cell_type": "code",
      "source": [
        "G = nx.Graph()\n",
        "\n",
        "G.add_node(1)\n",
        "G.add_node(2)\n",
        "G.add_node(3)\n",
        "G.add_node(4)\n",
        "\n",
        "G.add_edge(1, 2)\n",
        "G.add_edge(2, 3)\n",
        "G.add_edge(2, 4)\n",
        "nx.draw(G, with_labels = True, font_color = 'white', node_shape='s')"
      ],
      "metadata": {
        "id": "xXLIvJC_GukU"
      },
      "execution_count": null,
      "outputs": []
    },
    {
      "cell_type": "markdown",
      "source": [
        "Weighted Graph"
      ],
      "metadata": {
        "id": "NapLEFlTFO6e"
      }
    },
    {
      "cell_type": "code",
      "source": [
        "def show_wgraph():\n",
        "    plt.figure()    \n",
        "    pos = nx.spring_layout(G)\n",
        "    weight_labels = nx.get_edge_attributes(G,'weight')\n",
        "    nx.draw(G,pos,font_color = 'white', node_shape = 's', with_labels = True,)\n",
        "    output = nx.draw_networkx_edge_labels(G,pos,edge_labels=weight_labels)"
      ],
      "metadata": {
        "id": "ef36-5ZWFTeF"
      },
      "execution_count": null,
      "outputs": []
    },
    {
      "cell_type": "code",
      "source": [
        "G = nx.DiGraph()\n",
        "\n",
        "G.add_node('A')\n",
        "G.add_node('B')\n",
        "G.add_node('C')\n",
        "G.add_node('D')\n",
        "G.add_node('E')\n",
        "G.add_node('F')\n",
        "\n",
        "G.add_edge('A', 'B', weight=3)\n",
        "G.add_edge('A', 'C', weight=2)\n",
        "G.add_edge('B', 'C', weight=1)\n",
        "G.add_edge('B', 'E', weight=3)\n",
        "G.add_edge('C', 'D', weight=8)\n",
        "G.add_edge('E', 'F', weight=4)\n",
        "G.add_edge('D', 'F', weight=2)\n",
        "G.add_edge('B', 'D', weight=4)\n",
        "G.add_edge('E', 'D', weight=4)\n",
        "\n",
        "show_wgraph()"
      ],
      "metadata": {
        "colab": {
          "base_uri": "https://localhost:8080/",
          "height": 319
        },
        "id": "DkbdEgjVFQcR",
        "outputId": "258ba335-859a-47da-9281-a67ee5fb8c75"
      },
      "execution_count": null,
      "outputs": [
        {
          "output_type": "display_data",
          "data": {
            "text/plain": [
              "<Figure size 432x288 with 1 Axes>"
            ],
            "image/png": "[encoded data removed]"
          },
          "metadata": {}
        }
      ]
    },
    {
      "cell_type": "code",
      "source": [
        "import networkx as nx\n",
        "G = nx.Graph() \n",
        "G.add_node('A') \n",
        "G.add_node('B')\n",
        "G.add_node('C')\n",
        "G.add_node('D')\n",
        "G.add_edge('A','B',relation='friend') \n",
        "G.add_edge('B','C',relation='neighbor') \n",
        "G.add_edge('B','D',relation='friend')\n",
        "G.add_edge('A','D',relation='friend')  \n",
        "G.add_node('A',role=\"Trader\")\n",
        "G.add_node('B',role=\"Trader\")\n",
        "G.add_node('C',role=\"Manager\")\n",
        "G.add_node('D',role=\"Manager\")"
      ],
      "metadata": {
        "id": "qIADwkrWRn-c"
      },
      "execution_count": null,
      "outputs": []
    },
    {
      "cell_type": "code",
      "source": [
        "nx.draw_networkx(G, pos=nx.spring_layout(G),with_labels=True)"
      ],
      "metadata": {
        "colab": {
          "base_uri": "https://localhost:8080/",
          "height": 248
        },
        "id": "iDDqx0kVNUhX",
        "outputId": "2fc1faf8-b869-4da6-f617-774556ccd533"
      },
      "execution_count": null,
      "outputs": [
        {
          "output_type": "display_data",
          "data": {
            "text/plain": [
              "<Figure size 432x288 with 1 Axes>"
            ],
            "image/png": "[encoded data removed]"
          },
          "metadata": {}
        }
      ]
    },
    {
      "cell_type": "code",
      "source": [
        "nx.draw_networkx(G, pos=nx.spring_layout(G),node_color=[\"#A0CBE2\", \"#D0AAE3\", \"#FF0000\", \"#FFFF00\"])"
      ],
      "metadata": {
        "colab": {
          "base_uri": "https://localhost:8080/",
          "height": 248
        },
        "id": "wOZLQ6dUJIYB",
        "outputId": "ee9deebe-4d73-4d03-ea7b-c66416041618"
      },
      "execution_count": null,
      "outputs": [
        {
          "output_type": "display_data",
          "data": {
            "text/plain": [
              "<Figure size 432x288 with 1 Axes>"
            ],
            "image/png": "[encoded data removed]"
          },
          "metadata": {}
        }
      ]
    },
    {
      "cell_type": "code",
      "source": [
        "#DRAW WEIGHTED GRAPH                                     \n",
        "import networkx as nx\n",
        "import matplotlib.pyplot as plt\n",
        "G=nx.Graph()\n",
        "G.add_node(1,pos=(1,1))\n",
        "G.add_node(2,pos=(2,2))\n",
        "G.add_node(3,pos=(1,0))\n",
        "G.add_edge(1,2,weight=0.5) \n",
        "G.add_edge(1,3,weight=9.8)\n",
        "pos=nx.get_node_attributes(G,'pos')\n",
        "labels = nx.get_edge_attributes(G,'weight')\n",
        "nx.draw_networkx(G,pos)\n",
        "nx.draw_networkx_edge_labels(G,pos,edge_labels=labels)\n",
        "limits=plt.axis('on')\n",
        "plt.show()                                                 \n",
        "  "
      ],
      "metadata": {
        "colab": {
          "base_uri": "https://localhost:8080/",
          "height": 248
        },
        "id": "1rgR3KUdcfY3",
        "outputId": "2ba4e68a-c033-4a75-89dd-162e22acdb41"
      },
      "execution_count": null,
      "outputs": [
        {
          "output_type": "display_data",
          "data": {
            "text/plain": [
              "<Figure size 432x288 with 1 Axes>"
            ],
            "image/png": "[encoded data removed]"
          },
          "metadata": {}
        }
      ]
    },
    {
      "cell_type": "code",
      "source": [
        "#MULTIGRAPH\n",
        "G = nx.MultiGraph()\n",
        "G.add_edge('A','B',relation='friend')\n",
        "G.add_edge('A','B',relation='neighbor')\n",
        "G.add_edge('B','C',relation='coworker')\n",
        "G.add_edge('C','F',relation='coworker')\n",
        "G.add_edge('C','F',relation='friend')\n",
        "nx.draw_networkx(G)\n",
        "# getting various graph properties\n",
        "print(\"Total number of nodes: \", int(G.number_of_nodes()))\n",
        "print(\"Total number of edges: \", int(G.number_of_edges()))\n",
        "print(\"List of all nodes: \", list(G.nodes()))\n",
        "print(\"List of all edges: \", list(G.edges(data = True)))\n",
        "print(\"Degree for all nodes: \", dict(G.degree()))\n",
        "\n"
      ],
      "metadata": {
        "colab": {
          "base_uri": "https://localhost:8080/",
          "height": 355
        },
        "id": "h6d71ReENA2Z",
        "outputId": "a4124351-d0ec-4dea-8895-a7fc530c0b25"
      },
      "execution_count": null,
      "outputs": [
        {
          "output_type": "stream",
          "name": "stdout",
          "text": [
            "Total number of nodes:  4\n",
            "Total number of edges:  5\n",
            "List of all nodes:  ['A', 'B', 'C', 'F']\n",
            "List of all edges:  [('A', 'B', {'relation': 'friend'}), ('A', 'B', {'relation': 'neighbor'}), ('B', 'C', {'relation': 'coworker'}), ('C', 'F', {'relation': 'coworker'}), ('C', 'F', {'relation': 'friend'})]\n",
            "Degree for all nodes:  {'A': 2, 'B': 3, 'C': 3, 'F': 2}\n"
          ]
        },
        {
          "output_type": "display_data",
          "data": {
            "text/plain": [
              "<Figure size 432x288 with 1 Axes>"
            ],
            "image/png": "[encoded data removed]"
          },
          "metadata": {}
        }
      ]
    },
    {
      "cell_type": "code",
      "source": [
        "#SIGNED GRAPH\n",
        "G = nx.MultiGraph()\n",
        "G.add_edge('A','B',sign='+')\n",
        "G.add_edge('B','C',sign='-')\n",
        "G.add_edge('C','F',sign='-')\n",
        "nx.draw_networkx(G)\n",
        "# getting various graph properties\n",
        "print(\"Total number of nodes: \", int(G.number_of_nodes()))\n",
        "print(\"Total number of edges: \", int(G.number_of_edges()))\n",
        "print(\"List of all nodes: \", list(G.nodes()))\n",
        "print(\"List of all edges: \", list(G.edges(data = True)))\n",
        "print(\"Degree for all nodes: \", dict(G.degree()))"
      ],
      "metadata": {
        "colab": {
          "base_uri": "https://localhost:8080/",
          "height": 335
        },
        "id": "_3XYHXhHNDKs",
        "outputId": "01671dc6-5ebc-4bad-f262-8bd2f2a1f904"
      },
      "execution_count": null,
      "outputs": [
        {
          "output_type": "stream",
          "name": "stdout",
          "text": [
            "Total number of nodes:  4\n",
            "Total number of edges:  3\n",
            "List of all nodes:  ['A', 'B', 'C', 'F']\n",
            "List of all edges:  [('A', 'B', {'sign': '+'}), ('B', 'C', {'sign': '-'}), ('C', 'F', {'sign': '-'})]\n",
            "Degree for all nodes:  {'A': 1, 'B': 2, 'C': 2, 'F': 1}\n"
          ]
        },
        {
          "output_type": "display_data",
          "data": {
            "text/plain": [
              "<Figure size 432x288 with 1 Axes>"
            ],
            "image/png": "[encoded data removed]"
          },
          "metadata": {}
        }
      ]
    },
    {
      "cell_type": "code",
      "source": [
        "\n",
        "\n",
        "#USING panda and matplotlib\n",
        "\n",
        "import pandas as pd\n",
        "import networkx as nx\n",
        "import matplotlib.pyplot as plt\n",
        " \n",
        "# Build a dataframe with your connections\n",
        "df = pd.DataFrame({ 'from':['A', 'B', 'C','A'], 'to':['D', 'A', 'E','C']})\n",
        " \n",
        "# And a data frame with characteristics for your nodes\n",
        "carac = pd.DataFrame({ 'ID':['A', 'B', 'C','D','E'], 'myvalue':['group1','group1','group2','group3','group3'] })\n",
        " \n",
        "# Build your graph\n",
        "G=nx.from_pandas_edgelist(df, 'from', 'to', create_using=nx.Graph() )\n",
        " \n",
        "# The order of the node for networkX is the following order:\n",
        "G.nodes()\n",
        "# Thus, we cannot give directly the 'myvalue' column to netowrkX, we need to arrange the order!\n",
        " \n",
        "# Here is the tricky part: I need to reorder carac to assign the good color to each node\n",
        "carac= carac.set_index('ID')\n",
        "carac=carac.reindex(G.nodes())\n",
        " \n",
        "# And I need to transform my categorical column in a numerical value: group1->1, group2->2...\n",
        "carac['myvalue']=pd.Categorical(carac['myvalue'])\n",
        "carac['myvalue'].cat.codes\n",
        " \n",
        "# Custom the nodes:\n",
        "nx.draw(G, with_labels=True, node_color=carac['myvalue'].cat.codes, cmap=plt.cm.Set1, node_size=1500)"
      ],
      "metadata": {
        "colab": {
          "base_uri": "https://localhost:8080/",
          "height": 319
        },
        "id": "L6f5o2T4QmuG",
        "outputId": "0a5a2c8f-3139-40ec-b1c6-b3d535a824f8"
      },
      "execution_count": null,
      "outputs": [
        {
          "output_type": "display_data",
          "data": {
            "text/plain": [
              "<Figure size 432x288 with 1 Axes>"
            ],
            "image/png": "[encoded data removed]"
          },
          "metadata": {}
        }
      ]
    },
    {
      "cell_type": "markdown",
      "source": [
        "Bipartite graph\n"
      ],
      "metadata": {
        "id": "AFFqpSFMUvGO"
      }
    },
    {
      "cell_type": "code",
      "source": [
        "B=nx.Graph() \n",
        "B.add_nodes_from(['A','B','C','D','E'],bipartite=0)\n",
        "B.add_nodes_from([1,2,3,4],bipartite=1) \n",
        "B.add_edges_from([('A',1),('B',1),('C',1),('C',3), ('D',2), ('E',3),('E',4)])\n",
        "nx.draw_networkx(B,pos = nx.drawing.layout.bipartite_layout(B, ['A','B','C','D','E']), width = 2)\n",
        "\n"
      ],
      "metadata": {
        "id": "W6n4XN85VMky"
      },
      "execution_count": null,
      "outputs": []
    },
    {
      "cell_type": "markdown",
      "source": [
        "Projected Graph"
      ],
      "metadata": {
        "id": "20mPrugQWW8K"
      }
    },
    {
      "cell_type": "code",
      "source": [
        "from networkx.algorithms import bipartite\n",
        "B=nx.Graph() \n",
        "B.add_edges_from([('A',1),('B',1), ('C',1),('D',1),('H',1),('B',2),('C',2),('D',2), ('E',2),('G',2),('E',3),('F',3),('H',3),('J',3),('E',4),('I',4),('J',4)])\n",
        "X=set(['A','B','C','D','E','F','G','H','I', 'J'])\n",
        "P=bipartite.projected_graph(B,X)\n",
        "nx.draw_networkx(P,width = 2)\n"
      ],
      "metadata": {
        "colab": {
          "base_uri": "https://localhost:8080/",
          "height": 248
        },
        "id": "IfbsJwHeWYVJ",
        "outputId": "d5d444fc-4d78-4c22-9ac5-8d88da7aaa3c"
      },
      "execution_count": 57,
      "outputs": [
        {
          "output_type": "display_data",
          "data": {
            "text/plain": [
              "<Figure size 432x288 with 1 Axes>"
            ],
            "image/png": "[encoded data removed]"
          },
          "metadata": {}
        }
      ]
    },
    {
      "cell_type": "code",
      "source": [
        "import networkx as nx\n",
        "# Undirected Graph\n",
        "G = nx.Graph()\n",
        "G.add_edge('A','B')\n",
        "G.add_edge('B','C')\n",
        "nx.draw_networkx(G)\n",
        "\n",
        "\n",
        "\n",
        "# Directed Graph\n",
        "D = nx.DiGraph()\n",
        "D.add_edge('B','A')\n",
        "D.add_edge('B','C')\n",
        "# Check\n",
        "D.is_directed()\n",
        "# True\n",
        "nx.draw_networkx(D)\n",
        "\n",
        "\n",
        "\n",
        "# Multi-Graph\n",
        "M = nx.MultiGraph()\n",
        "M.add_edge('B','A')\n",
        "M.add_edge('B','C')\n",
        "# Check\n",
        "M.is_multigraph()\n",
        "# True\n",
        "nx.draw_networkx(M)\n",
        "\n",
        "\n",
        "\n",
        "\n",
        "# Directed Multi-Graph\n",
        "DM = nx.MultiDiGraph()\n",
        "DM.add_edge('B','A')\n",
        "DM.add_edge('B','C')\n",
        "# Check\n",
        "DM.is_multigraph()\n",
        "# True\n",
        "nx.draw_networkx(DM)\n",
        "\n",
        "\n",
        "\n",
        "#To create a bipartite graph:\n",
        "from networkx.algorithms import bipartite\n",
        "B = nx.Graph()\n",
        "# Add nodes\n",
        "B.add_nodes_from(['A','B','C','D','E'], bipartite=0)\n",
        "B.add_nodes_from([1,2,3,4], bipartite=1)\n",
        "# Add edges\n",
        "B.add_edges_from([('A',1),('B',1),('C',1),('C',3),('D',2),('E',3),('E',4)])\n",
        "#CHeck\n",
        "bipartite.is_bipartite(B)\n",
        "# True\n",
        "#Projected Bipartite Graph\n",
        "B = nx.Graph()\n",
        "B.add_edges_from([('A',1), ('B',1), ('C',1),('D',1),('H',1), \\\n",
        "                    ('B', 2), ('C', 2), ('D', 2),('E', 2), ('G', 2), ('E', 3), \\\n",
        "                    ('F', 3), ('H', 3), ('J', 3), ('E', 4), ('I', 4), ('J', 4) ])\n",
        "\n",
        "# set of nodes to generate a projected graph from a partition\n",
        "X = set(['A','B','C','D', 'E', 'F','G', 'H', 'I','J'])\n",
        "P = bipartite.projected_graph(B, X)\n",
        "nx.draw_networkx(P)\n",
        "\n",
        "\n",
        "\n",
        "\n",
        "\n",
        "#EDGE TYPES\n",
        "# Weighted Edges\n",
        "W = nx.Graph()\n",
        "W.add_edge('A','B', weight=5)\n",
        "W.add_edge('B','C', weight=6)\n",
        "nx.draw_networkx(W)\n",
        "# Signed Edges\n",
        "S = nx.Graph()\n",
        "S.add_edge('A','B', sign='+')\n",
        "S.add_edge('B','C', sign='-')\n",
        "nx.draw_networkx(S)\n",
        "# Edge Attributes\n",
        "R = nx.Graph()\n",
        "R.add_edge('A','B', relation='friend')\n",
        "R.add_edge('B','C', relation='coworker')\n",
        "R.add_edge('B','D', relation='family')\n",
        "R.add_edge('A','B', relation='friend', weight=5)\n",
        "nx.draw_networkx(R)\n",
        "\n",
        "\n",
        "\n",
        "#Node Atrributes\n",
        "G=nx.MultiGraph()\n",
        "G.add_node('A',role='manager')\n",
        "G.add_node('B',role='employee')\n",
        "G.node['A']['role'] = 'team member'\n",
        "G.node['B']['role'] = 'engineer'\n",
        "nx.draw_networkx(G)\n",
        "\n"
      ],
      "metadata": {
        "id": "2mvL3n0_adJe"
      },
      "execution_count": null,
      "outputs": []
    },
    {
      "cell_type": "code",
      "source": [
        "import networkx as nx\n",
        "G = nx.Graph()\n",
        "G.add_edge('A','K')\n",
        "G.add_edge('A','B')\n",
        "G.add_edge('A','C')\n",
        "G.add_edge('B','K')\n",
        "G.add_edge('B','A')\n",
        "G.add_edge('B','C')\n",
        "G.add_edge('C','A')\n",
        "G.add_edge('C','B')\n",
        "G.add_edge('C','F')\n",
        "G.add_edge('C','E')\n",
        "G.add_edge('D','E')\n",
        "G.add_edge('E','C')\n",
        "G.add_edge('E','F')\n",
        "G.add_edge('E','H')\n",
        "G.add_edge('F','C')\n",
        "G.add_edge('F','G')\n",
        "G.add_edge('I','J')\n",
        "nx.draw_networkx(G)\n",
        "\n",
        "\n",
        "#Clustering Coefficient\n",
        "# G is a graph, A is a node\n",
        "nx.clustering(G, 'B')\n",
        "\n",
        "#Global clustering\n",
        "nx.average_clustering(G)\n",
        "\n",
        "#Transistivity\n",
        "nx.transitivity(G)\n",
        "\n",
        "#SHORTEST PATH\n",
        "nx.shortest_path(G, 'A', 'H')\n",
        "# ['A', 'C', 'E', 'H']\n",
        "\n",
        "nx.shortest_path_length(G, 'A', 'H')\n",
        "# 3\n",
        "\n",
        "#Breadth First Search\n",
        "T = nx.bfs_tree(G, 'A')\n",
        "T.edges()\n",
        "\n",
        "#Shortest path\n",
        "nx.shortest_path_length(G, 'A')\n",
        "\n",
        "\n",
        "\n",
        "degCent = nx.degree_centrality(G)\n",
        "# gives a dictionary. key = node, value = centrality ratio\n",
        "degCent[34]"
      ],
      "metadata": {
        "id": "FavcgPk2ad_4"
      },
      "execution_count": null,
      "outputs": []
    },
    {
      "cell_type": "code",
      "source": [
        ""
      ],
      "metadata": {
        "id": "OwHoV2A0anEa"
      },
      "execution_count": null,
      "outputs": []
    }
  ]
}