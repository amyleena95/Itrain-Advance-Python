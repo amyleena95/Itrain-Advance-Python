{
  "nbformat": 4,
  "nbformat_minor": 0,
  "metadata": {
    "colab": {
      "name": "Randomforestclassifier.ipynb",
      "provenance": [],
      "authorship_tag": "ABX9TyOg1nrm0dpZISdXTdOOpmCu",
      "include_colab_link": true
    },
    "kernelspec": {
      "name": "python3",
      "display_name": "Python 3"
    },
    "language_info": {
      "name": "python"
    }
  },
  "cells": [
    {
      "cell_type": "markdown",
      "metadata": {
        "id": "view-in-github",
        "colab_type": "text"
      },
      "source": [
        "<a href=\"https://colab.research.google.com/github/SaranyaRavikumar06/Itrain-Advance-Python/blob/main/Randomforestclassifier.ipynb\" target=\"_parent\"><img src=\"https://colab.research.google.com/assets/colab-badge.svg\" alt=\"Open In Colab\"/></a>"
      ]
    },
    {
      "cell_type": "code",
      "execution_count": null,
      "metadata": {
        "id": "pcJRCpkPqQJS"
      },
      "outputs": [],
      "source": [
        "#import sklearn as sk\n",
        "\n",
        "from sklearn import datasets\n",
        "#Load Data\n",
        "iris = datasets.load_iris()\n",
        "X = iris.data\n",
        "y = iris.target\n",
        "X\n",
        "y\n",
        "\n",
        "# Split and Randomize Data\n",
        "from sklearn.model_selection import train_test_split\n",
        "X_train, X_test, y_train, y_test = train_test_split(X, y, test_size=0.25, random_state=33)\n",
        "X_train\n",
        "X_test\n",
        "\n",
        "# Random FOrest Classifier\n",
        "from sklearn.ensemble import RandomForestClassifier\n",
        "from sklearn.metrics import accuracy_score\n",
        "clf1 = RandomForestClassifier(n_estimators=100,random_state=42)\n",
        "# Step 3 Train the Classifier\n",
        "clf1.fit(X_train,y_train)\n",
        "pred1 = clf1.predict(X_test)\n",
        "# Step 4: Evaluate the Classifier\n",
        "print (\"Random Forest accuracy score : \",accuracy_score(y_test, pred1))\n",
        "\n",
        "# GradientBoosting Classifier\n",
        "from sklearn.ensemble import GradientBoostingClassifier\n",
        "from sklearn.metrics import accuracy_score\n",
        "clf2 = GradientBoostingClassifier(learning_rate=0.01,random_state=1)\n",
        "# Step 3 Train the Classifier\n",
        "clf2.fit(X_train,y_train)\n",
        "pred2 = clf2.predict(X_test)\n",
        "# Step 4: Evaluate the Classifier\n",
        "print (\"GBC accuracy score : \",accuracy_score(y_test, pred2))\n",
        "\n",
        "\n"
      ]
    }
  ]
}