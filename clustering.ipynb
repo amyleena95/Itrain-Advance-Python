{
  "nbformat": 4,
  "nbformat_minor": 0,
  "metadata": {
    "colab": {
      "name": "clustering.ipynb",
      "provenance": [],
      "authorship_tag": "ABX9TyOzTf7iUzlzhmFSnxI77MIp",
      "include_colab_link": true
    },
    "kernelspec": {
      "name": "python3",
      "display_name": "Python 3"
    },
    "language_info": {
      "name": "python"
    }
  },
  "cells": [
    {
      "cell_type": "markdown",
      "metadata": {
        "id": "view-in-github",
        "colab_type": "text"
      },
      "source": [
        "<a href=\"https://colab.research.google.com/github/SaranyaRavikumar06/Itrain-Advance-Python/blob/main/clustering.ipynb\" target=\"_parent\"><img src=\"https://colab.research.google.com/assets/colab-badge.svg\" alt=\"Open In Colab\"/></a>"
      ]
    },
    {
      "cell_type": "code",
      "execution_count": null,
      "metadata": {
        "id": "082MfAwRsrVR"
      },
      "outputs": [],
      "source": [
        "import matplotlib.pyplot as plt\n",
        "from sklearn import datasets\n",
        "#Load Data\n",
        "iris = datasets.load_iris()\n",
        "X = iris.data\n",
        "y = iris.target\n",
        "# Step 1 Model\n",
        "from sklearn import cluster\n",
        "cluster = cluster.KMeans(n_clusters=4)\n",
        "# Step 2 Training\n",
        "cluster.fit(X)\n",
        "# Step 3 Evaluation\n",
        "plt.scatter(X[:,0],X[:,1],c=cluster.labels_)\n",
        "\n",
        "\n",
        "\n",
        "#Mean Shift Clustering\n",
        "from sklearn.cluster import MeanShift\n",
        "ms = MeanShift()\n",
        "ms.fit(iris.data)\n",
        "\n",
        "\n",
        "\n",
        "\n",
        "from sklearn.cluster import AgglomerativeClustering\n",
        "groups = AgglomerativeClustering(n_clusters=2)\n",
        "groups .fit_predict(iris.data)\n",
        "\n",
        "from sklearn.decomposition import PCA\n",
        "\n",
        "pca = PCA(n_components=2).fit(iris.data)\n",
        "pca_2d = pca.transform(iris.data)\n",
        "print(pca_2d.shape)\n",
        "for i in range(0, pca_2d.shape[0]):\n",
        "    if ms.labels_[i] == 1:\n",
        "        c1 = plt.scatter(pca_2d[i,0],pca_2d[i,1],c='r',marker='+')\n",
        "    elif ms.labels_[i] == 0:\n",
        "        c2 = plt.scatter(pca_2d[i,0],pca_2d[i,1],c='g',marker='o')\n",
        "#plt.title('Mean shift finds 2 clusters)\n",
        "plt.show()\n",
        "\n",
        "#Another Method\n",
        "\n",
        "\n",
        "import pandas as pd\n",
        "url = \"https://archive.ics.uci.edu/ml/machine-learning-databases/iris/iris.data\"\n",
        "#the imported dataset does not have the required column names so lets add it\n",
        "colnames = ['sepal-length', 'sepal-width', 'petal-length', 'petal-width', 'Class']\n",
        "irisdata = pd.read_csv(url, names=colnames)\n",
        "irisdata.head()\n",
        "irisdata['Class'] = pd.Categorical(irisdata[\"Class\"])\n",
        "irisdata[\"Class\"] = irisdata[\"Class\"].cat.codes\n",
        "X = irisdata.values[:, 0:4]\n",
        "y = irisdata.values[:, 4]\n",
        "from sklearn.cluster import KMeans\n",
        "# Number of clusters\n",
        "kmeans = KMeans(n_clusters=3)\n",
        "# Fitting the input data\n",
        "kmeans = kmeans.fit(X)\n",
        "# Getting the cluster labels\n",
        "labels = kmeans.predict(X)\n",
        "# Centroid values\n",
        "centroids = kmeans.cluster_centers_\n",
        "from sklearn.metrics import classification_report\n",
        "target_names = ['Iris-setosa', 'Iris-versicolor', 'Iris-virginica']\n",
        "print(classification_report(irisdata['Class'],kmeans.labels_,target_names=target_names))\n",
        "#You can see in the classification report that, 91% of our data was predicted accurately. Thats pretty good for an unsupervised algorithm.\n",
        "\n",
        "\n",
        "\n",
        "\n",
        "#Elbow plot to choose the number of clusters\n",
        "\n",
        "cost =[] \n",
        "for i in range(1, 11): \n",
        "    KM = cluster.KMeans(n_clusters = i, max_iter = 500) \n",
        "    KM.fit(X) \n",
        "      \n",
        "    # calculates squared error \n",
        "    # for the clustered points \n",
        "    cost.append(KM.inertia_)      \n",
        "  \n",
        "# plot the cost against K values \n",
        "plt.plot(range(1, 11), cost, color ='g', linewidth ='3') \n",
        "plt.xlabel(\"Value of K\") \n",
        "plt.ylabel(\"Sqaured Error (Cost)\") \n",
        "plt.show() # clear the plot "
      ]
    }
  ]
}