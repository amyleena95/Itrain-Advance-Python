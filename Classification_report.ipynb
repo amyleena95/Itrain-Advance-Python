{
  "nbformat": 4,
  "nbformat_minor": 0,
  "metadata": {
    "colab": {
      "name": "Classification report.ipynb",
      "provenance": [],
      "authorship_tag": "ABX9TyMkWIlgg1NtCupRTYCBITbl",
      "include_colab_link": true
    },
    "kernelspec": {
      "name": "python3",
      "display_name": "Python 3"
    },
    "language_info": {
      "name": "python"
    }
  },
  "cells": [
    {
      "cell_type": "markdown",
      "metadata": {
        "id": "view-in-github",
        "colab_type": "text"
      },
      "source": [
        "<a href=\"https://colab.research.google.com/github/SaranyaRavikumar06/Itrain-Advance-Python/blob/main/Classification_report.ipynb\" target=\"_parent\"><img src=\"https://colab.research.google.com/assets/colab-badge.svg\" alt=\"Open In Colab\"/></a>"
      ]
    },
    {
      "cell_type": "code",
      "execution_count": null,
      "metadata": {
        "id": "HFXYiTiDqq0o"
      },
      "outputs": [],
      "source": [
        "#This data sets consists of 3 different types of irisesâ€™ (Setosa, Versicolour, and Virginica) petal and sepal length, stored in a 150x4 numpy.ndarray\n",
        "#import sklearn as sk\n",
        "\n",
        "from sklearn import datasets\n",
        "#Load Data\n",
        "iris = datasets.load_iris()\n",
        "X = iris.data\n",
        "Y = iris.target\n",
        "X\n",
        "Y\n",
        "\n",
        "# Split and Randomize Data\n",
        "from sklearn.model_selection import train_test_split\n",
        "X_train, X_test, Y_train, Y_test = train_test_split(X, Y, test_size=0.25, random_state=33)\n",
        "X_train\n",
        "X_test\n",
        "\n",
        "# Step 2 Define Classifier\n",
        "from sklearn import neighbors\n",
        "from sklearn.metrics import accuracy_score\n",
        "clf = neighbors.KNeighborsClassifier()\n",
        "# Step 3 Train the Classifier\n",
        "clf.fit(X_train,Y_train)\n",
        "# predict the response\n",
        "pred = clf.predict(X_test)\n",
        "# Step 4: # evaluate accuracy for classifier\n",
        "print (\"KNeighbors accuracy score : \",accuracy_score(Y_test, pred))\n",
        "\n",
        "\n",
        "# SVM\n",
        "#from sklearn import svm\n",
        "from sklearn.svm import SVC\n",
        "from sklearn.metrics import accuracy_score\n",
        "clf1 = SVC()\n",
        "clf1.fit(X_train,Y_train)\n",
        "# predict the response\n",
        "pred1 = clf1.predict(X_test)\n",
        "# Step 4: # evaluate accuracy for classifier\n",
        "print (\"SVC accuracy score : \",accuracy_score(Y_test, pred1))\n",
        "\n",
        "\n",
        "\n",
        "\n",
        "#Classification Report for KNN\n",
        "# create a prediction array for our test set\n",
        "y_pred = clf.predict(X_test)\n",
        "from sklearn.metrics import classification_report\n",
        "target_names = ['Iris-setosa', 'Iris-versicolor', 'Iris-virginica']\n",
        "print(classification_report(Y_test, y_pred,target_names=target_names))\n",
        "\n",
        "\n",
        "#Classification Report for SVM\n",
        "# create a prediction array for our test set\n",
        "y_pred1 = clf1.predict(X_test)\n",
        "from sklearn.metrics import classification_report\n",
        "target_names = ['Iris-setosa', 'Iris-versicolor', 'Iris-virginica']\n",
        "print(classification_report(Y_test, y_pred1,target_names=target_names))\n",
        "##You can see in the classification report that, 96% of our data was predicted accurately. Thats pretty good for an unsupervised algorithm."
      ]
    }
  ]
}