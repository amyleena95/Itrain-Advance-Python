{
  "nbformat": 4,
  "nbformat_minor": 0,
  "metadata": {
    "colab": {
      "name": "SGD.ipynb",
      "provenance": [],
      "authorship_tag": "ABX9TyObRARBpsxM1DgO5Rh0Ra6R",
      "include_colab_link": true
    },
    "kernelspec": {
      "name": "python3",
      "display_name": "Python 3"
    },
    "language_info": {
      "name": "python"
    }
  },
  "cells": [
    {
      "cell_type": "markdown",
      "metadata": {
        "id": "view-in-github",
        "colab_type": "text"
      },
      "source": [
        "<a href=\"https://colab.research.google.com/github/SaranyaRavikumar06/Itrain-Advance-Python/blob/main/SGD.ipynb\" target=\"_parent\"><img src=\"https://colab.research.google.com/assets/colab-badge.svg\" alt=\"Open In Colab\"/></a>"
      ]
    },
    {
      "cell_type": "code",
      "execution_count": null,
      "metadata": {
        "id": "SAxzpjG8pdSm"
      },
      "outputs": [],
      "source": [
        "#SGD Classifier\n",
        "#import sklearn as sk\n",
        "\n",
        "from sklearn import datasets\n",
        "#Load Data\n",
        "iris = datasets.load_iris()\n",
        "X = iris.data\n",
        "Y = iris.target\n",
        "X\n",
        "Y\n",
        "\n",
        "# Split and Randomize Data\n",
        "from sklearn.model_selection import train_test_split\n",
        "X_train, X_test, Y_train, Y_test = train_test_split(X, Y, test_size=0.25, random_state=33)\n",
        "X_train\n",
        "X_test\n",
        "\n",
        "# Step 2 Define Classifier\n",
        "from sklearn import linear_model\n",
        "from sklearn.metrics import accuracy_score\n",
        "clf = linear_model.SGDClassifier()\n",
        "# Step 3 Train the Classifier\n",
        "clf.fit(X_train,Y_train)\n",
        "# Step 4: # predict the response\n",
        "pred = clf.predict(X_test)\n",
        "# Step 5: # evaluate accuracy for classifier\n",
        "print (\"SGD accuracy score : \",accuracy_score(Y_test, pred))\n",
        "\n",
        "\n",
        "# Step 5: Save the Model\n",
        "from sklearn.externals import joblib\n",
        "joblib.dump(clf, 'mymodel.pkl')\n",
        "# Step 6: Load the Model & Prediction\n",
        "clf = joblib.load('mymodel.pkl')\n",
        "clf\n",
        "\n",
        "#VISUALIZATION\n",
        "\n",
        "from yellowbrick.classifier import ClassificationReport\n",
        "# Instantiate the classification model and visualizer\n",
        "visualizer = ClassificationReport(clf, classes=[0,1,2])\n",
        "visualizer.fit(X_train, Y_train) # Fit the training data to the visualizer\n",
        "visualizer.score(X_test, Y_test) # Evaluate the model on the test data\n",
        "g = visualizer.poof() # Draw/show/poof the data"
      ]
    }
  ]
}