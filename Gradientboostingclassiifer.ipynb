{
  "nbformat": 4,
  "nbformat_minor": 0,
  "metadata": {
    "colab": {
      "name": "Gradientboostingclassiifer.ipynb",
      "provenance": [],
      "authorship_tag": "ABX9TyPW6XGqXrjH0akomoy8Osit",
      "include_colab_link": true
    },
    "kernelspec": {
      "name": "python3",
      "display_name": "Python 3"
    },
    "language_info": {
      "name": "python"
    }
  },
  "cells": [
    {
      "cell_type": "markdown",
      "metadata": {
        "id": "view-in-github",
        "colab_type": "text"
      },
      "source": [
        "<a href=\"https://colab.research.google.com/github/SaranyaRavikumar06/Itrain-Advance-Python/blob/main/Gradientboostingclassiifer.ipynb\" target=\"_parent\"><img src=\"https://colab.research.google.com/assets/colab-badge.svg\" alt=\"Open In Colab\"/></a>"
      ]
    },
    {
      "cell_type": "code",
      "execution_count": null,
      "metadata": {
        "id": "TdrjQ_n2qH38"
      },
      "outputs": [],
      "source": [
        "#Gradient Boosting Classifier\n",
        "#import sklearn as sk\n",
        "\n",
        "from sklearn import datasets\n",
        "#Load Data\n",
        "iris = datasets.load_iris()\n",
        "X = iris.data\n",
        "y = iris.target\n",
        "X\n",
        "y\n",
        "\n",
        "# Split and Randomize Data\n",
        "from sklearn.model_selection import train_test_split\n",
        "X_train, X_test, y_train, y_test = train_test_split(X, y, test_size=0.25, random_state=33)\n",
        "X_train\n",
        "X_test\n",
        "\n",
        "# Step 2 Define Classifier\n",
        "from sklearn.ensemble import GradientBoostingClassifier\n",
        "from sklearn.metrics import accuracy_score\n",
        "clf2 = GradientBoostingClassifier()\n",
        "# Step 3 Train the Classifier\n",
        "clf2.fit(X_train,y_train)\n",
        "pred2 = clf2.predict(X_test)\n",
        "# Step 4: Evaluate the Classifier\n",
        "print (\"GBC accuracy score : \",accuracy_score(y_test, pred2))\n",
        "\n",
        "\n",
        "# Step 5: Save the Model\n",
        "from sklearn.externals import joblib\n",
        "joblib.dump(clf, 'iris.pkl')\n",
        "# Step 6: Load the Model & Prediction\n",
        "clf = joblib.load('iris.pkl')\n",
        "clf\n",
        "\n"
      ]
    }
  ]
}