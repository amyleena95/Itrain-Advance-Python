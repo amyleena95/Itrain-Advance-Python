{
  "nbformat": 4,
  "nbformat_minor": 0,
  "metadata": {
    "colab": {
      "name": "NeuralNetwork.ipynb",
      "provenance": [],
      "authorship_tag": "ABX9TyOC41P+sSdAZErJ97Y2D+6V",
      "include_colab_link": true
    },
    "kernelspec": {
      "name": "python3",
      "display_name": "Python 3"
    },
    "language_info": {
      "name": "python"
    }
  },
  "cells": [
    {
      "cell_type": "markdown",
      "metadata": {
        "id": "view-in-github",
        "colab_type": "text"
      },
      "source": [
        "<a href=\"https://colab.research.google.com/github/SaranyaRavikumar06/Itrain-Advance-Python/blob/main/NeuralNetwork.ipynb\" target=\"_parent\"><img src=\"https://colab.research.google.com/assets/colab-badge.svg\" alt=\"Open In Colab\"/></a>"
      ]
    },
    {
      "cell_type": "code",
      "execution_count": null,
      "metadata": {
        "id": "wBJMQn6wtkGh"
      },
      "outputs": [],
      "source": [
        "#Convert the images as vectors\n",
        "#conda install -c conda-forge keras tensorflow\n",
        "from keras.datasets import mnist\n",
        "\n",
        "# Setup train and test splits\n",
        "(x_train, y_train), (x_test, y_test) = mnist.load_data()\n",
        "print(\"Training data shape: \", x_train.shape) # (60000, 28, 28) -- 60000 images, each 28x28 pixels\n",
        "print(\"Test data shape\", x_test.shape) # (10000, 28, 28) -- 10000 images, each 28x28\n",
        "\n",
        "# Flatten the images\n",
        "image_vector_size = 28*28\n",
        "x_train = x_train.reshape(x_train.shape[0], image_vector_size)\n",
        "x_test = x_test.reshape(x_test.shape[0], image_vector_size)\n",
        "\n",
        "\n",
        "#Hot Encoding of the values (0,1,etcc)\n",
        "import keras\n",
        "from keras.datasets import mnist\n",
        "\n",
        "# Setup train and test splits\n",
        "(x_train, y_train), (x_test, y_test) = mnist.load_data()\n",
        "print(\"Training label shape: \", y_train.shape) # (60000,) -- 60000 numbers (all 0-9)\n",
        "print(\"First 5 training labels: \", y_train[:5]) # [5, 0, 4, 1, 9]\n",
        "\n",
        "# Convert to \"one-hot\" vectors using the to_categorical function\n",
        "num_classes = 10\n",
        "y_train = keras.utils.to_categorical(y_train, num_classes)\n",
        "y_test = keras.utils.to_categorical(y_test, num_classes)\n",
        "print(\"First 5 training lables as one-hot encoded vectors:\\n\", y_train[:5])\n",
        "\n",
        "# This is the one-hot version of: [5, 0, 4, 1, 9]\n",
        "\"\"\"\n",
        "[[0, 0, 0, 0, 0, 1, 0, 0, 0, 0]\n",
        " [1, 0, 0, 0, 0, 0, 0, 0, 0, 0]\n",
        " [0, 0, 0, 0, 1, 0, 0, 0, 0, 0]\n",
        " [0, 1, 0, 0, 0, 0, 0, 0, 0, 0]\n",
        " [0, 0, 0, 0, 0, 0, 0, 0, 0, 1]]\n",
        "\"\"\"\n",
        "\n",
        "#Build First Network\n",
        "\n",
        "from keras.layers import Dense # Dense layers are \"fully connected\" layers\n",
        "from keras.models import Sequential # Documentation: https://keras.io/models/sequential/\n",
        "\n",
        "image_size = 784 # 28*28\n",
        "num_classes = 10 # ten unique digits\n",
        "\n",
        "model = Sequential()\n",
        "\n",
        "# The input layer requires the special input_shape parameter which should match\n",
        "# the shape of our training data.\n",
        "model.add(Dense(units=32, activation='sigmoid', input_shape=(image_size,)))\n",
        "model.add(Dense(units=num_classes, activation='softmax'))\n",
        "model.summary()\n",
        "\n",
        "#Evaulate the Model\n",
        "model.compile(optimizer=\"sgd\", loss='categorical_crossentropy', metrics=['accuracy'])\n",
        "history = model.fit(x_train, y_train, batch_size=128, epochs=5, verbose=False, validation_split=.1)\n",
        "loss, accuracy  = model.evaluate(x_test, y_test, verbose=False)\n",
        "import matplotlib.pyplt as plt\n",
        "plt.plot(history.history['acc'])\n",
        "plt.plot(history.history['val_acc'])\n",
        "plt.title('model accuracy')\n",
        "plt.ylabel('accuracy')\n",
        "plt.xlabel('epoch')\n",
        "plt.legend(['training', 'validation'], loc='best')\n",
        "plt.show()\n",
        "print(f'Test loss: {loss:.3}')\n",
        "print(f'Test accuracy: {accuracy:.3}')"
      ]
    }
  ]
}