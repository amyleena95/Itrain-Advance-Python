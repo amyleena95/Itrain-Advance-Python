{
  "nbformat": 4,
  "nbformat_minor": 0,
  "metadata": {
    "colab": {
      "name": "VDSS09_FCNN_MNIST.ipynb",
      "provenance": []
    },
    "kernelspec": {
      "name": "python3",
      "display_name": "Python 3"
    },
    "language_info": {
      "name": "python"
    },
    "accelerator": "GPU"
  },
  "cells": [
    {
      "cell_type": "markdown",
      "metadata": {
        "id": "oZ76jZ_jXVNp"
      },
      "source": [
        "###**Task 1: Implement a Fully Connected Neural Network and validate on the MNIST dataset** "
      ]
    },
    {
      "cell_type": "code",
      "metadata": {
        "id": "QTkY7GPYV4z1"
      },
      "source": [
        "# Importing essential libraries\n",
        "import numpy as np #for array operations\n",
        "import tensorflow as tf #to import tensorflow interfaces\n",
        "import matplotlib.pyplot as plt #for visualization\n",
        "import keras\n",
        "from keras.utils.np_utils import to_categorical\n",
        "from keras.layers import Dense\n",
        "from keras.models import Sequential"
      ],
      "execution_count": 1,
      "outputs": []
    },
    {
      "cell_type": "markdown",
      "metadata": {
        "id": "N0maWYMcXjRl"
      },
      "source": [
        "####**Loading the dataset**"
      ]
    },
    {
      "cell_type": "code",
      "metadata": {
        "colab": {
          "base_uri": "https://localhost:8080/"
        },
        "id": "OEZjMW1LXh1t",
        "outputId": "12eb3ba9-4970-45bd-cec4-523c3ac0ca32"
      },
      "source": [
        "# Loading dataset and performing train-test split\n",
        "(x_train, y_train), (x_test, y_test) = tf.keras.datasets.mnist.load_data()"
      ],
      "execution_count": 2,
      "outputs": [
        {
          "output_type": "stream",
          "name": "stdout",
          "text": [
            "Downloading data from https://storage.googleapis.com/tensorflow/tf-keras-datasets/mnist.npz\n",
            "11493376/11490434 [==============================] - 0s 0us/step\n",
            "11501568/11490434 [==============================] - 0s 0us/step\n"
          ]
        }
      ]
    },
    {
      "cell_type": "code",
      "metadata": {
        "colab": {
          "base_uri": "https://localhost:8080/"
        },
        "id": "zbBLSWoxXl87",
        "outputId": "71e49219-c0cc-4b3d-b826-801cd4a5707e"
      },
      "source": [
        "# Displaying the dimensions of the training and test set\n",
        "print(\"Training data shape: \", x_train.shape)\n",
        "print(\"Test data shape\", x_test.shape)"
      ],
      "execution_count": 3,
      "outputs": [
        {
          "output_type": "stream",
          "name": "stdout",
          "text": [
            "Training data shape:  (60000, 28, 28)\n",
            "Test data shape (10000, 28, 28)\n"
          ]
        }
      ]
    },
    {
      "cell_type": "markdown",
      "metadata": {
        "id": "ibnkNVsKXp52"
      },
      "source": [
        "As displayed, the training dataset has 60,000 images and test dataset has 10,000 images. Each image is of size 28x28 pixel."
      ]
    },
    {
      "cell_type": "markdown",
      "metadata": {
        "id": "0Go85nwUXrYs"
      },
      "source": [
        "####**Viewing a sample image from the dataset**"
      ]
    },
    {
      "cell_type": "code",
      "metadata": {
        "colab": {
          "base_uri": "https://localhost:8080/",
          "height": 300
        },
        "id": "ifDjIQS_Xqba",
        "outputId": "7041893c-c0cc-4580-a8c3-1d802186ace6"
      },
      "source": [
        "image_index = 7777\n",
        "print(y_train[image_index])\n",
        "plt.imshow(x_train[image_index], cmap='Greys')"
      ],
      "execution_count": 4,
      "outputs": [
        {
          "output_type": "stream",
          "name": "stdout",
          "text": [
            "8\n"
          ]
        },
        {
          "output_type": "execute_result",
          "data": {
            "text/plain": [
              "<matplotlib.image.AxesImage at 0x7fdc42a2b690>"
            ]
          },
          "metadata": {},
          "execution_count": 4
        },
        {
          "output_type": "display_data",
          "data": {
            "text/plain": [
              "<Figure size 432x288 with 1 Axes>"
            ],
            "image/png": "[encoded data removed]"
          },
          "metadata": {
            "needs_background": "light"
          }
        }
      ]
    },
    {
      "cell_type": "markdown",
      "metadata": {
        "id": "AxJR3eRuXvhz"
      },
      "source": [
        "For fully connected neural networks, the input data must be a vector. Instead of several 28x28 images, we consider several vectors that are all of length 784 (28*28=784). So, the images need to be flattened."
      ]
    },
    {
      "cell_type": "markdown",
      "metadata": {
        "id": "dZubIijsXx9I"
      },
      "source": [
        "####**Preprocessing**"
      ]
    },
    {
      "cell_type": "code",
      "metadata": {
        "id": "57-SUgPwX0YP"
      },
      "source": [
        "# Flatten the images\n",
        "image_vector_size = 28*28\n",
        "x_train = x_train.reshape(x_train.shape[0], image_vector_size)\n",
        "x_test = x_test.reshape(x_test.shape[0], image_vector_size)"
      ],
      "execution_count": 5,
      "outputs": []
    },
    {
      "cell_type": "code",
      "metadata": {
        "colab": {
          "base_uri": "https://localhost:8080/"
        },
        "id": "IFNRhR0yX3kT",
        "outputId": "8dc3fecb-f7c0-43dd-b295-6887f8822501"
      },
      "source": [
        "# Convert to \"one-hot\" vectors using the to_categorical function\n",
        "num_classes = 10\n",
        "y_train = to_categorical(y_train, num_classes)\n",
        "y_test = to_categorical(y_test, num_classes)\n",
        "print(\"First 5 training lables as one-hot encoded vectors:\\n\", y_train[:5])"
      ],
      "execution_count": 6,
      "outputs": [
        {
          "output_type": "stream",
          "name": "stdout",
          "text": [
            "First 5 training lables as one-hot encoded vectors:\n",
            " [[0. 0. 0. 0. 0. 1. 0. 0. 0. 0.]\n",
            " [1. 0. 0. 0. 0. 0. 0. 0. 0. 0.]\n",
            " [0. 0. 0. 0. 1. 0. 0. 0. 0. 0.]\n",
            " [0. 1. 0. 0. 0. 0. 0. 0. 0. 0.]\n",
            " [0. 0. 0. 0. 0. 0. 0. 0. 0. 1.]]\n"
          ]
        }
      ]
    },
    {
      "cell_type": "markdown",
      "metadata": {
        "id": "TiQtjf44X8PI"
      },
      "source": [
        "###**Building the Fully Connected Network**"
      ]
    },
    {
      "cell_type": "code",
      "metadata": {
        "id": "0cu5rOlZX5dV"
      },
      "source": [
        "image_size = 784 # 28*28\n",
        "num_classes = 10 # ten unique digits"
      ],
      "execution_count": 7,
      "outputs": []
    },
    {
      "cell_type": "code",
      "metadata": {
        "id": "Vy4nVgDhX_V_"
      },
      "source": [
        "model = Sequential()\n",
        "\n",
        "# The input layer requires the special input_shape parameter which should match the shape of our training data.\n",
        "model.add(Dense(units=32, activation='sigmoid', input_shape=(image_size,)))\n",
        "model.add(Dense(units=num_classes, activation='softmax'))\n",
        "model.summary()"
      ],
      "execution_count": null,
      "outputs": []
    },
    {
      "cell_type": "markdown",
      "metadata": {
        "id": "QBF2gWImYC-4"
      },
      "source": [
        " ### **Task 2: Training of model**\n",
        "\n",
        " Taken train test split as 70:30"
      ]
    },
    {
      "cell_type": "code",
      "metadata": {
        "colab": {
          "base_uri": "https://localhost:8080/"
        },
        "id": "8LCduHqbYDty",
        "outputId": "ef4f2b63-3cc6-4690-ae57-f9e7735ed398"
      },
      "source": [
        "model.compile(optimizer=\"sgd\", loss='categorical_crossentropy', metrics=['accuracy'])\n",
        "history = model.fit(x_train, y_train, batch_size=128, epochs=5, validation_split=.3)"
      ],
      "execution_count": 9,
      "outputs": [
        {
          "output_type": "stream",
          "name": "stdout",
          "text": [
            "Epoch 1/5\n",
            "329/329 [==============================] - 4s 4ms/step - loss: 1.5275 - accuracy: 0.6013 - val_loss: 1.1764 - val_accuracy: 0.7686\n",
            "Epoch 2/5\n",
            "329/329 [==============================] - 1s 3ms/step - loss: 0.9874 - accuracy: 0.7965 - val_loss: 0.8374 - val_accuracy: 0.8327\n",
            "Epoch 3/5\n",
            "329/329 [==============================] - 1s 3ms/step - loss: 0.7734 - accuracy: 0.8394 - val_loss: 0.6990 - val_accuracy: 0.8546\n",
            "Epoch 4/5\n",
            "329/329 [==============================] - 1s 3ms/step - loss: 0.6567 - accuracy: 0.8593 - val_loss: 0.6351 - val_accuracy: 0.8624\n",
            "Epoch 5/5\n",
            "329/329 [==============================] - 1s 3ms/step - loss: 0.5861 - accuracy: 0.8697 - val_loss: 0.5535 - val_accuracy: 0.8743\n"
          ]
        }
      ]
    },
    {
      "cell_type": "markdown",
      "metadata": {
        "id": "9-ot6F51YHQ1"
      },
      "source": [
        "####**Visualization**"
      ]
    },
    {
      "cell_type": "code",
      "metadata": {
        "colab": {
          "base_uri": "https://localhost:8080/",
          "height": 573
        },
        "id": "U5Ce0gB1YH9A",
        "outputId": "3175658b-023d-44ab-bec7-d435dbbadb35"
      },
      "source": [
        "loss, accuracy  = model.evaluate(x_test, y_test, verbose=False)\n",
        "history.history\n",
        "plt.plot(history.history['accuracy'])\n",
        "plt.plot(history.history['val_accuracy'])\n",
        "plt.title('model accuracy')\n",
        "plt.ylabel('accuracy')\n",
        "plt.xlabel('epoch')\n",
        "plt.legend(['train', 'test'], loc='upper left')\n",
        "plt.show()\n",
        "\n",
        "plt.plot(history.history['loss'])\n",
        "plt.plot(history.history['val_loss'])\n",
        "plt.title('model loss')\n",
        "plt.ylabel('loss')\n",
        "plt.xlabel('epoch')\n",
        "plt.legend(['train', 'test'], loc='upper left')\n",
        "plt.show()"
      ],
      "execution_count": 10,
      "outputs": [
        {
          "output_type": "display_data",
          "data": {
            "text/plain": [
              "<Figure size 432x288 with 1 Axes>"
            ],
            "image/png": "[encoded data removed]"
          },
          "metadata": {
            "needs_background": "light"
          }
        },
        {
          "output_type": "display_data",
          "data": {
            "text/plain": [
              "<Figure size 432x288 with 1 Axes>"
            ],
            "image/png": "[encoded data removed]"
          },
          "metadata": {
            "needs_background": "light"
          }
        }
      ]
    },
    {
      "cell_type": "markdown",
      "metadata": {
        "id": "WiiqOHFBYLKK"
      },
      "source": [
        "####**Task 3: Evaluation of model**"
      ]
    },
    {
      "cell_type": "code",
      "metadata": {
        "colab": {
          "base_uri": "https://localhost:8080/"
        },
        "id": "cd-N5MPgYNjd",
        "outputId": "9839d11a-5a92-4fd6-98f0-f283b4ece139"
      },
      "source": [
        "score = model.evaluate(x_test,y_test)"
      ],
      "execution_count": 11,
      "outputs": [
        {
          "output_type": "stream",
          "name": "stdout",
          "text": [
            "313/313 [==============================] - 1s 2ms/step - loss: 0.5446 - accuracy: 0.8788\n"
          ]
        }
      ]
    },
    {
      "cell_type": "code",
      "metadata": {
        "colab": {
          "base_uri": "https://localhost:8080/"
        },
        "id": "yFTmHjFeYOjF",
        "outputId": "9f27db2f-a6ee-4277-fb66-2f55ac7d9ac0"
      },
      "source": [
        "print('Test loss:', score[0]) \n",
        "print('Test accuracy:', score[1])"
      ],
      "execution_count": 12,
      "outputs": [
        {
          "output_type": "stream",
          "name": "stdout",
          "text": [
            "Test loss: 0.5446190237998962\n",
            "Test accuracy: 0.8787999749183655\n"
          ]
        }
      ]
    }
  ]
}