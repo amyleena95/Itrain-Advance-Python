{
  "nbformat": 4,
  "nbformat_minor": 0,
  "metadata": {
    "colab": {
      "name": "KNN.ipynb",
      "provenance": [],
      "authorship_tag": "ABX9TyPWAmjAOmiezU3TBXAJd9U2",
      "include_colab_link": true
    },
    "kernelspec": {
      "name": "python3",
      "display_name": "Python 3"
    },
    "language_info": {
      "name": "python"
    }
  },
  "cells": [
    {
      "cell_type": "markdown",
      "metadata": {
        "id": "view-in-github",
        "colab_type": "text"
      },
      "source": [
        "<a href=\"https://colab.research.google.com/github/SaranyaRavikumar06/Itrain-Advance-Python/blob/main/KNN.ipynb\" target=\"_parent\"><img src=\"https://colab.research.google.com/assets/colab-badge.svg\" alt=\"Open In Colab\"/></a>"
      ]
    },
    {
      "cell_type": "code",
      "execution_count": null,
      "metadata": {
        "id": "YFECQ8Mmoze7"
      },
      "outputs": [],
      "source": [
        "\n",
        "#This data sets consists of 3 different types of irises’ (Setosa, Versicolour, and Virginica) petal and sepal length, stored in a 150x4 numpy.ndarray\n",
        "#import sklearn as sk\n",
        "from sklearn import datasets\n",
        "#Load Data\n",
        "iris = datasets.load_iris()\n",
        "X = iris.data\n",
        "Y = iris.target\n",
        "print(X.shape)\n",
        "Y\n",
        "\n",
        "# Split and Randomize Data\n",
        "from sklearn.model_selection import train_test_split\n",
        "X_train, X_test, Y_train, Y_test = train_test_split(X, Y, test_size=0.25, random_state=33)\n",
        "X_train\n",
        "X_test\n",
        "print(X_train.shape)\n",
        "print(X_test.shape)\n",
        "print(Y_train.shape)\n",
        "print(Y_test.shape)\n",
        "#How to choose the value of K\n",
        "from sklearn.neighbors import KNeighborsClassifier\n",
        "from sklearn import metrics\n",
        "k_range =range(1,26)\n",
        "scores={}\n",
        "scores_list=[]\n",
        "for k in k_range:\n",
        "    knn=KNeighborsClassifier(n_neighbors=k)\n",
        "    knn.fit(X_train,Y_train)\n",
        "    Y_pred=knn.predict(X_test)\n",
        "    scores[k]=metrics.accuracy_score(Y_test,Y_pred)\n",
        "    scores_list.append(metrics.accuracy_score(Y_test,Y_pred))\n",
        "    \n",
        "for k in k_range:\n",
        "     print(scores[k])\n",
        "     print(scores_list)\n",
        "#Plot and visualize the K values\n",
        "import matplotlib.pyplot as plt\n",
        "plt.plot(k_range,scores_list)\n",
        "plt.xlabel('Value of K for KNN')\n",
        "plt.ylabel('Testing Accuracy')\n",
        "\n",
        "\n",
        "\n",
        "# Step 2 Define Classifier\n",
        "\n",
        "from sklearn.metrics import accuracy_score\n",
        "clf = KNeighborsClassifier(n_neighbors=5)\n",
        "# Step 3 Train the Classifier\n",
        "clf.fit(X_train,Y_train)\n",
        "# predict the response\n",
        "pred = clf.predict(X_test)\n",
        "# Step 4: # evaluate accuracy for classifier\n",
        "print (\"KNeighbors accuracy score : \",accuracy_score(Y_test, pred))\n",
        "\n",
        "\n",
        "# Step 5: Save the Model\n",
        "from sklearn.externals import joblib\n",
        "joblib.dump(clf, 'mymodel.pkl')\n",
        "# Step 6: Load the Model & Prediction\n",
        "clf = joblib.load('mymodel.pkl')\n",
        "clf\n",
        "\n",
        "\n",
        "#SAMPLE TESTING\n",
        "classes={0:'setosa',1:'versicolor',2:'virginica'}\n",
        "x_new=[[3,4,5,2],[5,4,2,2]]\n",
        "y_predict=clf.predict(x_new)\n",
        "print(classes[y_predict[0]])\n",
        "print(classes[y_predict[1]])\n",
        "\n",
        "#VISUALIZATION\n",
        "#conda install -c districtdatalabs yellowbrick\n",
        "from yellowbrick.classifier import ClassificationReport\n",
        "# Instantiate the classification model and visualizer\n",
        "visualizer = ClassificationReport(clf, classes=[0,1,2])\n",
        "visualizer.fit(X_train, Y_train) # Fit the training data to the visualizer\n",
        "visualizer.score(X_test, Y_test) # Evaluate the model on the test data\n",
        "g = visualizer.poof() # Draw/show/poof the data\n"
      ]
    }
  ]
}