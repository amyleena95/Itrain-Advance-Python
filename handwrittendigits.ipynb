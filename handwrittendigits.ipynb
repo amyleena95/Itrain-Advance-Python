{
  "nbformat": 4,
  "nbformat_minor": 0,
  "metadata": {
    "colab": {
      "name": "handwrittendigits.ipynb",
      "provenance": [],
      "authorship_tag": "ABX9TyMkSfDWmWD9kmKpZUZmBNgt",
      "include_colab_link": true
    },
    "kernelspec": {
      "name": "python3",
      "display_name": "Python 3"
    },
    "language_info": {
      "name": "python"
    }
  },
  "cells": [
    {
      "cell_type": "markdown",
      "metadata": {
        "id": "view-in-github",
        "colab_type": "text"
      },
      "source": [
        "<a href=\"https://colab.research.google.com/github/SaranyaRavikumar06/Itrain-Advance-Python/blob/main/handwrittendigits.ipynb\" target=\"_parent\"><img src=\"https://colab.research.google.com/assets/colab-badge.svg\" alt=\"Open In Colab\"/></a>"
      ]
    },
    {
      "cell_type": "code",
      "execution_count": null,
      "metadata": {
        "id": "Gz5ylQJWuGuZ"
      },
      "outputs": [],
      "source": [
        "from sklearn import datasets\n",
        "digits = datasets.load_digits()\n",
        "X = digits.data\n",
        "y = digits.target\n",
        "X\n",
        "y\n",
        "\n",
        "# Split and Randomize Data\n",
        "from sklearn.model_selection import train_test_split\n",
        "X_train, X_test, y_train, y_test = train_test_split(X, y, test_size=0.25, random_state=33)\n",
        "X_train\n",
        "X_test\n",
        "\n",
        "# Step 2 Define Classifiers\n",
        "from sklearn import neighbors\n",
        "clf = neighbors.KNeighborsClassifier()\n",
        "from sklearn import svm\n",
        "clf1 = svm.SVC()\n",
        "from sklearn import linear_model\n",
        "clf2 = linear_model.SGDClassifier()\n",
        "from sklearn import tree\n",
        "clf3 = tree.DecisionTreeClassifier()\n",
        "from sklearn.ensemble import RandomForestClassifier\n",
        "clf4 = RandomForestClassifier()\n",
        "from sklearn.ensemble import GradientBoostingClassifier\n",
        "clf5 = GradientBoostingClassifier()\n",
        "\n",
        "# Step 3 Train the Classifier\n",
        "clf.fit(X_train,y_train)\n",
        "clf1.fit(X_train,y_train)\n",
        "clf2.fit(X_train,y_train)\n",
        "clf3.fit(X_train,y_train)\n",
        "clf4.fit(X_train,y_train)\n",
        "clf5.fit(X_train,y_train)\n",
        "\n",
        "\n",
        "\n",
        "\n",
        "# Step 4: Evaluate the Classifier\n",
        "print(\"KNN\")\n",
        "print(clf.score(X_test,y_test))\n",
        "print(\"SVM\")\n",
        "print(clf1.score(X_test,y_test))\n",
        "print(\"SGD\")\n",
        "print(clf2.score(X_test,y_test))\n",
        "print(\"Decision Tree\")\n",
        "print(clf3.score(X_test,y_test))\n",
        "print(\"Random Forest\")\n",
        "print(clf4.score(X_test,y_test))\n",
        "print(\"Gradient Boosting CLassifier\")\n",
        "print(clf5.score(X_test,y_test))\n",
        "\n",
        "\n",
        "\n",
        "#COnfusion Matrix\n",
        "# create a prediction array for our test set\n",
        "y_pred = clf.predict(X_test)\n",
        "from sklearn.metrics import confusion_matrix\n",
        "confusion_matrix(y_test, y_pred)\n",
        "\n",
        "y_pred1 = clf1.predict(X_test)\n",
        "from sklearn.metrics import confusion_matrix\n",
        "confusion_matrix(y_test, y_pred1)\n",
        "\n",
        "\n",
        "\n",
        "\n",
        "\n",
        "\n",
        "# Step 5: Save the Model\n",
        "from sklearn.externals import joblib\n",
        "joblib.dump(clf, 'mymodel.pkl')\n",
        "# Step 6: Load the Model & Prediction\n",
        "clf = joblib.load('mymodel.pkl')\n",
        "clf"
      ]
    }
  ]
}